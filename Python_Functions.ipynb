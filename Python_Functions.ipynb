{
  "nbformat": 4,
  "nbformat_minor": 0,
  "metadata": {
    "colab": {
      "provenance": []
    },
    "kernelspec": {
      "name": "python3",
      "display_name": "Python 3"
    },
    "language_info": {
      "name": "python"
    }
  },
  "cells": [
    {
      "cell_type": "markdown",
      "source": [
        "### **Python Functions**\n",
        "\n",
        "  • A function is a block of code which only runs when it is called.\n",
        "  \n",
        "  • Advanced Functions - lambda, map, zip"
      ],
      "metadata": {
        "id": "cxa0yqoHeegw"
      }
    },
    {
      "cell_type": "code",
      "source": [
        "def my_function():                                           # Function Defining\n",
        " print(\"Hello i'm from a function\")"
      ],
      "metadata": {
        "id": "nFJCbVpfE9ny"
      },
      "execution_count": 1,
      "outputs": []
    },
    {
      "cell_type": "code",
      "source": [
        "my_function()                                                # Function Calling"
      ],
      "metadata": {
        "colab": {
          "base_uri": "https://localhost:8080/"
        },
        "id": "NKAsEJIpFYD8",
        "outputId": "7237b0d3-4e79-4d19-943d-d5ca25f0bff8"
      },
      "execution_count": 2,
      "outputs": [
        {
          "output_type": "stream",
          "name": "stdout",
          "text": [
            "Hello i'm from a function\n"
          ]
        }
      ]
    },
    {
      "cell_type": "code",
      "source": [
        "def my_ID(name):                                             # Function with Arguments\n",
        " print(\"CR001_\" + name)\n",
        "my_ID(\"Onkar\")"
      ],
      "metadata": {
        "colab": {
          "base_uri": "https://localhost:8080/"
        },
        "id": "10VzOt1VFZNn",
        "outputId": "0cb5af9d-ac05-4b0f-bd14-89be5bc9e530"
      },
      "execution_count": 3,
      "outputs": [
        {
          "output_type": "stream",
          "name": "stdout",
          "text": [
            "CR001_Onkar\n"
          ]
        }
      ]
    },
    {
      "cell_type": "code",
      "source": [
        "def add(a,b,c):\n",
        " return a+b+c\n",
        "add(4,5,1)\n",
        "\n",
        "# Using Lambda Function\n",
        "\n",
        "add = lambda a,b,c: print(a+b+c)\n",
        "add(4, 5, 1)"
      ],
      "metadata": {
        "colab": {
          "base_uri": "https://localhost:8080/"
        },
        "id": "YYNDkPpjFt5V",
        "outputId": "c62c29d9-0beb-4641-8695-137a1107e534"
      },
      "execution_count": 5,
      "outputs": [
        {
          "output_type": "stream",
          "name": "stdout",
          "text": [
            "10\n"
          ]
        }
      ]
    },
    {
      "cell_type": "code",
      "source": [
        "# Map Function\n",
        "\n",
        "nums = [1, 2, 3, 4, 5]\n",
        "def sq(n):\n",
        " return n*n\n",
        "square = map(sq, nums)\n",
        "print(list(square))"
      ],
      "metadata": {
        "colab": {
          "base_uri": "https://localhost:8080/"
        },
        "id": "rVtLtHtiF1dJ",
        "outputId": "445d77a6-d0fa-47f5-e64f-c2ee97096b4b"
      },
      "execution_count": 6,
      "outputs": [
        {
          "output_type": "stream",
          "name": "stdout",
          "text": [
            "[1, 4, 9, 16, 25]\n"
          ]
        }
      ]
    },
    {
      "cell_type": "code",
      "source": [
        "# Zip Function\n",
        "\n",
        "name= [\"Manjeet\", \"Nikhil\", \"Shambhavi\"]\n",
        "ID = [4, 1, 3]\n",
        "mapped = zip(name, ID)\n",
        "print(list(mapped))"
      ],
      "metadata": {
        "colab": {
          "base_uri": "https://localhost:8080/"
        },
        "id": "mCN33hYCGT-X",
        "outputId": "e91662ad-a697-4a09-841d-daed6a722968"
      },
      "execution_count": 7,
      "outputs": [
        {
          "output_type": "stream",
          "name": "stdout",
          "text": [
            "[('Manjeet', 4), ('Nikhil', 1), ('Shambhavi', 3)]\n"
          ]
        }
      ]
    }
  ]
}