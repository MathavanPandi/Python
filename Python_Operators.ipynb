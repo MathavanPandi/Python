{
  "nbformat": 4,
  "nbformat_minor": 0,
  "metadata": {
    "colab": {
      "provenance": []
    },
    "kernelspec": {
      "name": "python3",
      "display_name": "Python 3"
    },
    "language_info": {
      "name": "python"
    }
  },
  "cells": [
    {
      "cell_type": "markdown",
      "source": [
        "**Python Operators**\n",
        "\n",
        "Arithmetic operators\n",
        "\n",
        "Assignment operators\n",
        "\n",
        "Comparison operators\n",
        "\n",
        "Logical operators\n",
        "\n",
        "Membership operators"
      ],
      "metadata": {
        "id": "cxa0yqoHeegw"
      }
    },
    {
      "cell_type": "code",
      "source": [
        "# Arithmetic Operators (+, -,*,/,%, **)                                  #used with numeric values to perform a common mathematical problems\n",
        "\n",
        "x = 5\n",
        "y = 8\n",
        "\n",
        "print(x+y)\n",
        "print(x-y)\n",
        "print(x*y)\n",
        "print(x/y)\n",
        "print(x%y)\n",
        "print(x**y)"
      ],
      "metadata": {
        "colab": {
          "base_uri": "https://localhost:8080/"
        },
        "id": "fqkpud6agsZh",
        "outputId": "03f9a4c3-99c1-4d6e-8721-47b2688b3b6b"
      },
      "execution_count": 18,
      "outputs": [
        {
          "output_type": "stream",
          "name": "stdout",
          "text": [
            "13\n",
            "-3\n",
            "40\n",
            "0.625\n",
            "5\n",
            "390625\n"
          ]
        }
      ]
    },
    {
      "cell_type": "code",
      "source": [
        "# Assignment Operators (=,+=,=,*=,/=,=, **=)                              #used to assign values to variables\n",
        "\n",
        "x, y = 5, 8\n",
        "\n",
        "# print(x = y, x += y, x = y, x *= y, x %= y, x /= y, x **= y)\n",
        "\n",
        "x += y          # x = x + y\n",
        "print(x)\n",
        "\n",
        "x -= y          # x = x - y\n",
        "print(x)\n",
        "\n",
        "x *= y          # x = x * y\n",
        "print(x)\n",
        "\n",
        "x /= y          # x = x / y\n",
        "print(x)\n",
        "\n",
        "x %= y          # x = x % y\n",
        "print(x)\n",
        "\n",
        "x **= y         # x = x ** y\n",
        "print(x)"
      ],
      "metadata": {
        "colab": {
          "base_uri": "https://localhost:8080/"
        },
        "id": "kiqmR66YraMk",
        "outputId": "2c11b9dc-3d1e-4acc-e8b1-67079c614734"
      },
      "execution_count": 26,
      "outputs": [
        {
          "output_type": "stream",
          "name": "stdout",
          "text": [
            "13\n",
            "5\n",
            "40\n",
            "5.0\n",
            "5.0\n",
            "390625.0\n"
          ]
        }
      ]
    },
    {
      "cell_type": "code",
      "source": [
        "# Comparison Operators (==,!,<, >, <=,>=)                                    # Used to compare two values\n",
        "\n",
        "x, y = 5, 8\n",
        "\n",
        "# print(x == y, x = y, x < y, x > y, x <= y, x >= y)\n",
        "\n",
        "print(x == y)     # equel to\n",
        "\n",
        "print(x != y)     # not equel to\n",
        "\n",
        "print(x < y)      # less then\n",
        "\n",
        "print(x > y)      # greater then\n",
        "\n",
        "print(x <= y)     # less then equel to\n",
        "\n",
        "print(x >= y)     # greater then equel to"
      ],
      "metadata": {
        "colab": {
          "base_uri": "https://localhost:8080/"
        },
        "id": "0Eq_ep2fraKh",
        "outputId": "b966fef7-1f5e-4478-eaca-0a0ac4db503d"
      },
      "execution_count": 28,
      "outputs": [
        {
          "output_type": "stream",
          "name": "stdout",
          "text": [
            "False\n",
            "True\n",
            "True\n",
            "False\n",
            "True\n",
            "False\n"
          ]
        }
      ]
    },
    {
      "cell_type": "code",
      "source": [
        "# Logical Operators (==,!,<, >, <=,>=)                                    # Used to combine conditional statements\n",
        "\n",
        "# print(x and y, x or y, not y)\n",
        "\n",
        "print((x<y) and (x != y))               # if both conditions are true\n",
        "print((x<y) or (x != y))                # if any one condition are true\n"
      ],
      "metadata": {
        "colab": {
          "base_uri": "https://localhost:8080/"
        },
        "id": "l90mrMZGraIQ",
        "outputId": "b3b211ee-9c75-448c-8598-8e1bec7181d7"
      },
      "execution_count": 36,
      "outputs": [
        {
          "output_type": "stream",
          "name": "stdout",
          "text": [
            "True\n",
            "True\n"
          ]
        }
      ]
    },
    {
      "cell_type": "code",
      "source": [
        "# Membership Operators (==,!=, <, >, <=,>=)                                # Used to test if a sequence is presented in an object\n",
        "\n",
        "# print(x in y, x not in y)\n",
        "\n",
        "x = [1, 2, 3, 4, 5]\n",
        "y = 4\n",
        "\n",
        "print(y in x)\n",
        "\n",
        "print(y not in x)"
      ],
      "metadata": {
        "colab": {
          "base_uri": "https://localhost:8080/"
        },
        "id": "NHvh6DP-raGD",
        "outputId": "60d875fa-7479-4f1a-90bd-d404351c1946"
      },
      "execution_count": 40,
      "outputs": [
        {
          "output_type": "stream",
          "name": "stdout",
          "text": [
            "True\n",
            "False\n"
          ]
        }
      ]
    }
  ]
}