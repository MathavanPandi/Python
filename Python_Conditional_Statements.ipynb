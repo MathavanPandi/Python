{
  "nbformat": 4,
  "nbformat_minor": 0,
  "metadata": {
    "colab": {
      "provenance": []
    },
    "kernelspec": {
      "name": "python3",
      "display_name": "Python 3"
    },
    "language_info": {
      "name": "python"
    }
  },
  "cells": [
    {
      "cell_type": "markdown",
      "source": [
        "### **Python Conditional Statements**\n",
        "\n",
        "*   If, elif, else statements"
      ],
      "metadata": {
        "id": "cxa0yqoHeegw"
      }
    },
    {
      "cell_type": "code",
      "source": [
        "a, b = 33, 200\n",
        "\n",
        "if b > a:\n",
        "\n",
        " print(\"b is greater than a\")"
      ],
      "metadata": {
        "colab": {
          "base_uri": "https://localhost:8080/"
        },
        "id": "LdrG0jhI3fQd",
        "outputId": "2ad99c10-e378-40ac-c8bc-9e9c9a12c2bd"
      },
      "execution_count": 41,
      "outputs": [
        {
          "output_type": "stream",
          "name": "stdout",
          "text": [
            "b is greater than a\n"
          ]
        }
      ]
    },
    {
      "cell_type": "markdown",
      "source": [
        "**2 Conditions**"
      ],
      "metadata": {
        "id": "BrOfsjMy5R3H"
      }
    },
    {
      "cell_type": "code",
      "source": [
        "aman, vinod = 50, 62\n",
        "\n",
        "if vinod > aman:\n",
        " print(\"vinod scores greater than aman\")\n",
        "\n",
        "elif aman == vinod:\n",
        " print(\"Both scores equally\")"
      ],
      "metadata": {
        "colab": {
          "base_uri": "https://localhost:8080/"
        },
        "id": "hQCw_Tt_4Hmh",
        "outputId": "f1ca2d75-8fc3-4f4a-e9a4-8b8b4a330290"
      },
      "execution_count": 43,
      "outputs": [
        {
          "output_type": "stream",
          "name": "stdout",
          "text": [
            "vinod scores greater than aman\n"
          ]
        }
      ]
    },
    {
      "cell_type": "code",
      "source": [
        "aman, vinod = 50, 50\n",
        "\n",
        "if vinod > aman:\n",
        " print(\"vinod scores greater than aman\")\n",
        "\n",
        "elif aman == vinod:\n",
        " print(\"Both scores equally\")"
      ],
      "metadata": {
        "colab": {
          "base_uri": "https://localhost:8080/"
        },
        "id": "fLRtzO7n4xjO",
        "outputId": "c9c610ba-f8bb-4a33-b365-d23be3a4a34d"
      },
      "execution_count": 44,
      "outputs": [
        {
          "output_type": "stream",
          "name": "stdout",
          "text": [
            "Both scores equally\n"
          ]
        }
      ]
    },
    {
      "cell_type": "markdown",
      "source": [
        "**3 Conditions**"
      ],
      "metadata": {
        "id": "6a0su87W5WCJ"
      }
    },
    {
      "cell_type": "code",
      "source": [
        "aman, vinod = 50, 67\n",
        "\n",
        "if vinod > aman:\n",
        " print(\"vinod scores greater than aman\")\n",
        "elif aman == vinod:\n",
        " print(\"Both scores equally\")\n",
        "else:\n",
        " print('aman scores greater than vinod')"
      ],
      "metadata": {
        "colab": {
          "base_uri": "https://localhost:8080/"
        },
        "id": "dHng1kAS40e3",
        "outputId": "945bf14a-2be2-47fa-a5c5-0e01fb188417"
      },
      "execution_count": 46,
      "outputs": [
        {
          "output_type": "stream",
          "name": "stdout",
          "text": [
            "vinod scores greater than aman\n"
          ]
        }
      ]
    },
    {
      "cell_type": "code",
      "source": [
        "aman, vinod = 50, 50\n",
        "\n",
        "if vinod > aman:\n",
        " print(\"vinod scores greater than aman\")\n",
        "elif aman == vinod:\n",
        " print(\"Both scores equally\")\n",
        "else:\n",
        " print('aman scores greater than vinod')"
      ],
      "metadata": {
        "colab": {
          "base_uri": "https://localhost:8080/"
        },
        "id": "T80Et9yO5Mii",
        "outputId": "1d9d30d0-6f0c-4a2e-8e90-214bebd888f7"
      },
      "execution_count": 47,
      "outputs": [
        {
          "output_type": "stream",
          "name": "stdout",
          "text": [
            "Both scores equally\n"
          ]
        }
      ]
    },
    {
      "cell_type": "code",
      "source": [
        "aman, vinod = 80, 50\n",
        "\n",
        "if vinod > aman:\n",
        " print(\"vinod scores greater than aman\")\n",
        "elif aman == vinod:\n",
        " print(\"Both scores equally\")\n",
        "else:\n",
        " print('aman scores greater than vinod')"
      ],
      "metadata": {
        "colab": {
          "base_uri": "https://localhost:8080/"
        },
        "id": "iQ9S0mTL5cH5",
        "outputId": "20fa7764-eb51-4f4f-d2d7-3c6d1270e8a5"
      },
      "execution_count": 48,
      "outputs": [
        {
          "output_type": "stream",
          "name": "stdout",
          "text": [
            "aman scores greater than vinod\n"
          ]
        }
      ]
    },
    {
      "cell_type": "markdown",
      "source": [
        "**Nested If**"
      ],
      "metadata": {
        "id": "J97BGNzS6PaL"
      }
    },
    {
      "cell_type": "code",
      "source": [
        "marks = 40\n",
        "if marks > 35:\n",
        " print(\"He is Pass\")\n",
        " if marks > 60:\n",
        "  print(\"He is in Distinction\")\n",
        " else:\n",
        "  print(\"He is in Mid Range\")\n",
        "else:\n",
        " print(\"Sadly, He is Fail\")"
      ],
      "metadata": {
        "colab": {
          "base_uri": "https://localhost:8080/"
        },
        "id": "yEogevqp6O22",
        "outputId": "72733df6-ea15-422b-cc83-c8614f11c21c"
      },
      "execution_count": 52,
      "outputs": [
        {
          "output_type": "stream",
          "name": "stdout",
          "text": [
            "He is Pass\n",
            "He is in Mid Range\n"
          ]
        }
      ]
    },
    {
      "cell_type": "code",
      "source": [
        "marks = 80\n",
        "if marks > 35:\n",
        " print(\"He is Pass\")\n",
        " if marks > 60:\n",
        "  print(\"He is in Distinction\")\n",
        " else:\n",
        "  print(\"He is in Mid Range\")\n",
        "else:\n",
        " print(\"Sadly, He is Fail\")"
      ],
      "metadata": {
        "colab": {
          "base_uri": "https://localhost:8080/"
        },
        "id": "AajKg4J-6ru3",
        "outputId": "43b49cc5-045b-48fd-f3e7-0c628059aa03"
      },
      "execution_count": 53,
      "outputs": [
        {
          "output_type": "stream",
          "name": "stdout",
          "text": [
            "He is Pass\n",
            "He is in Distinction\n"
          ]
        }
      ]
    },
    {
      "cell_type": "code",
      "source": [
        "marks = 20\n",
        "if marks > 35:\n",
        " print(\"He is Pass\")\n",
        " if marks > 60:\n",
        "  print(\"He is in Distinction\")\n",
        " else:\n",
        "  print(\"He is in Mid Range\")\n",
        "else:\n",
        " print(\"Sadly, He is Fail\")"
      ],
      "metadata": {
        "colab": {
          "base_uri": "https://localhost:8080/"
        },
        "id": "rtajtfAd6t6g",
        "outputId": "8a1867dd-6dcd-4756-e50f-2e977a6cc7b5"
      },
      "execution_count": 54,
      "outputs": [
        {
          "output_type": "stream",
          "name": "stdout",
          "text": [
            "Sadly, He is Fail\n"
          ]
        }
      ]
    }
  ]
}