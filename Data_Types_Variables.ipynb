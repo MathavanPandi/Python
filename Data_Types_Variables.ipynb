{
  "nbformat": 4,
  "nbformat_minor": 0,
  "metadata": {
    "colab": {
      "provenance": []
    },
    "kernelspec": {
      "name": "python3",
      "display_name": "Python 3"
    },
    "language_info": {
      "name": "python"
    }
  },
  "cells": [
    {
      "cell_type": "markdown",
      "source": [
        "**Python Data Types, Type Casting & Variables**\n",
        "\n",
        "**Text Type:** str\n",
        "\n",
        "**Numeric Types:** int, float\n",
        "\n",
        "**Sequence Types:** list, tuple, range\n",
        "\n",
        "**Mapping Type:** dict\n",
        "\n",
        "**Set Types:** set\n",
        "\n",
        "**Boolean Type:** bool"
      ],
      "metadata": {
        "id": "cxa0yqoHeegw"
      }
    },
    {
      "cell_type": "code",
      "execution_count": 5,
      "metadata": {
        "colab": {
          "base_uri": "https://localhost:8080/"
        },
        "id": "bo2-a1WLdYYB",
        "outputId": "cd533030-4e04-4cd1-f6b2-5200e1b247f7"
      },
      "outputs": [
        {
          "output_type": "stream",
          "name": "stdout",
          "text": [
            "<class 'str'>\n",
            "<class 'int'>\n",
            "<class 'float'>\n"
          ]
        }
      ],
      "source": [
        "name = 'mathavan'           # str = string\n",
        "age = 21                    # int = integer\n",
        "percent = 90.2              # float\n",
        "print(type(name))\n",
        "print(type(age))\n",
        "print(type(percent))"
      ]
    },
    {
      "cell_type": "code",
      "source": [
        "student = ['mathavan', 21, 90.2]            # you can edit the list values\n",
        "print(type(student))"
      ],
      "metadata": {
        "colab": {
          "base_uri": "https://localhost:8080/"
        },
        "id": "k1SN72SVfpai",
        "outputId": "b2875657-d151-44f0-ac42-06a2389720d2"
      },
      "execution_count": 6,
      "outputs": [
        {
          "output_type": "stream",
          "name": "stdout",
          "text": [
            "<class 'list'>\n"
          ]
        }
      ]
    },
    {
      "cell_type": "code",
      "source": [
        "student = ('mathavan', 21, 90.2)            # you can't edit the list values\n",
        "print(type(student))"
      ],
      "metadata": {
        "colab": {
          "base_uri": "https://localhost:8080/"
        },
        "id": "xwH1n6Prgslf",
        "outputId": "d8270145-c848-446f-e70d-e624b1b4ed84"
      },
      "execution_count": 7,
      "outputs": [
        {
          "output_type": "stream",
          "name": "stdout",
          "text": [
            "<class 'tuple'>\n"
          ]
        }
      ]
    },
    {
      "cell_type": "code",
      "source": [
        "print(range(5))"
      ],
      "metadata": {
        "colab": {
          "base_uri": "https://localhost:8080/"
        },
        "id": "SYKF7TAwgsjQ",
        "outputId": "162f6bec-5690-47c2-b8c3-2c27859450ba"
      },
      "execution_count": 8,
      "outputs": [
        {
          "output_type": "stream",
          "name": "stdout",
          "text": [
            "range(0, 5)\n"
          ]
        }
      ]
    },
    {
      "cell_type": "code",
      "source": [
        "student = {'Name': 'Rishika', 'Age': 21, 'Percent':90.2}     #dict = x:y\n",
        "                                                             # x = keys , y = values\n",
        "print(type(student))"
      ],
      "metadata": {
        "colab": {
          "base_uri": "https://localhost:8080/"
        },
        "id": "zN3RomkPgsg8",
        "outputId": "543f479b-0b20-499a-977c-2f3e3a8b08db"
      },
      "execution_count": 9,
      "outputs": [
        {
          "output_type": "stream",
          "name": "stdout",
          "text": [
            "<class 'dict'>\n"
          ]
        }
      ]
    },
    {
      "cell_type": "code",
      "source": [
        "student = {'mathavan', 21, 90.2}           # random output\n",
        "print(type(student))"
      ],
      "metadata": {
        "colab": {
          "base_uri": "https://localhost:8080/"
        },
        "id": "44aj9UlHgseQ",
        "outputId": "7be34efc-22f1-4029-9470-bbf572fb64a4"
      },
      "execution_count": 10,
      "outputs": [
        {
          "output_type": "stream",
          "name": "stdout",
          "text": [
            "<class 'set'>\n"
          ]
        }
      ]
    },
    {
      "cell_type": "code",
      "source": [
        "print(bool(0))                            # bool is a True or False statement\n",
        "print(bool(5))"
      ],
      "metadata": {
        "colab": {
          "base_uri": "https://localhost:8080/"
        },
        "id": "nQwyEolvgsb6",
        "outputId": "b709c949-a2f1-490e-a893-782cbb322fa8"
      },
      "execution_count": 13,
      "outputs": [
        {
          "output_type": "stream",
          "name": "stdout",
          "text": [
            "False\n",
            "True\n"
          ]
        }
      ]
    },
    {
      "cell_type": "code",
      "source": [],
      "metadata": {
        "id": "fqkpud6agsZh"
      },
      "execution_count": null,
      "outputs": []
    }
  ]
}