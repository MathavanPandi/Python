{
  "nbformat": 4,
  "nbformat_minor": 0,
  "metadata": {
    "colab": {
      "provenance": []
    },
    "kernelspec": {
      "name": "python3",
      "display_name": "Python 3"
    },
    "language_info": {
      "name": "python"
    }
  },
  "cells": [
    {
      "cell_type": "markdown",
      "source": [
        "# **Syntax Errors**"
      ],
      "metadata": {
        "id": "bP59rJF76nnt"
      }
    },
    {
      "cell_type": "code",
      "execution_count": null,
      "metadata": {
        "colab": {
          "base_uri": "https://localhost:8080/"
        },
        "id": "GEimjFMh50kH",
        "outputId": "805ffb13-61a1-4f9e-ee7b-7202cd1b54a3"
      },
      "outputs": [
        {
          "output_type": "stream",
          "name": "stdout",
          "text": [
            "Five is greater than two!\n"
          ]
        }
      ],
      "source": [
        "if 5 > 2:\n",
        "  print(\"Five is greater than two!\")"
      ]
    },
    {
      "cell_type": "code",
      "source": [
        "if 5 > 2:\n",
        "print(\"Five is greater than two!\")"
      ],
      "metadata": {
        "colab": {
          "base_uri": "https://localhost:8080/",
          "height": 140
        },
        "id": "kCSg678D6EJ3",
        "outputId": "a60057de-dd8c-49e7-87fd-34e716a3764a"
      },
      "execution_count": null,
      "outputs": [
        {
          "output_type": "error",
          "ename": "IndentationError",
          "evalue": "expected an indented block after 'if' statement on line 1 (<ipython-input-2-a314491c53bb>, line 2)",
          "traceback": [
            "\u001b[0;36m  File \u001b[0;32m\"<ipython-input-2-a314491c53bb>\"\u001b[0;36m, line \u001b[0;32m2\u001b[0m\n\u001b[0;31m    print(\"Five is greater than two!\")\u001b[0m\n\u001b[0m    ^\u001b[0m\n\u001b[0;31mIndentationError\u001b[0m\u001b[0;31m:\u001b[0m expected an indented block after 'if' statement on line 1\n"
          ]
        }
      ]
    },
    {
      "cell_type": "code",
      "source": [
        "if 5 > 2:\n",
        " print(\"Five is greater than two!\")\n",
        "if 5 > 2:\n",
        "        print(\"Five is greater than two!\")\n"
      ],
      "metadata": {
        "colab": {
          "base_uri": "https://localhost:8080/"
        },
        "id": "eIQpOVEc6Q_F",
        "outputId": "c8fb627d-cdfa-4c79-f36d-271edbd70f5c"
      },
      "execution_count": null,
      "outputs": [
        {
          "output_type": "stream",
          "name": "stdout",
          "text": [
            "Five is greater than two!\n",
            "Five is greater than two!\n"
          ]
        }
      ]
    },
    {
      "cell_type": "code",
      "source": [
        "if 5 > 2:\n",
        " print(\"Five is greater than two!\")\n",
        "        print(\"Five is greater than two!\")\n"
      ],
      "metadata": {
        "colab": {
          "base_uri": "https://localhost:8080/",
          "height": 140
        },
        "id": "1Uld5OiE6YHH",
        "outputId": "e76bc439-6dfb-47e8-de4a-310bcdd5bbc4"
      },
      "execution_count": null,
      "outputs": [
        {
          "output_type": "error",
          "ename": "IndentationError",
          "evalue": "unexpected indent (<ipython-input-4-a4dba24e2a47>, line 3)",
          "traceback": [
            "\u001b[0;36m  File \u001b[0;32m\"<ipython-input-4-a4dba24e2a47>\"\u001b[0;36m, line \u001b[0;32m3\u001b[0m\n\u001b[0;31m    print(\"Five is greater than two!\")\u001b[0m\n\u001b[0m    ^\u001b[0m\n\u001b[0;31mIndentationError\u001b[0m\u001b[0;31m:\u001b[0m unexpected indent\n"
          ]
        }
      ]
    },
    {
      "cell_type": "markdown",
      "source": [
        "# **variable names**"
      ],
      "metadata": {
        "id": "xGcsLwc26tuD"
      }
    },
    {
      "cell_type": "code",
      "source": [
        "myvar = \"John\"\n",
        "my_var = \"John\"\n",
        "_my_var = \"John\"\n",
        "myVar = \"John\"\n",
        "MYVAR = \"John\"\n",
        "myvar2 = \"John\""
      ],
      "metadata": {
        "id": "rTjs_PXy6tS1"
      },
      "execution_count": null,
      "outputs": []
    },
    {
      "cell_type": "code",
      "source": [
        "2myvar = \"John\"\n",
        "my-var = \"John\"\n",
        "my var = \"John\""
      ],
      "metadata": {
        "colab": {
          "base_uri": "https://localhost:8080/",
          "height": 140
        },
        "id": "Ra4SUnz17dua",
        "outputId": "cc26d087-46f3-49d2-f9b8-5b71c8f83ed7"
      },
      "execution_count": null,
      "outputs": [
        {
          "output_type": "error",
          "ename": "SyntaxError",
          "evalue": "invalid decimal literal (<ipython-input-6-0e82719f22b4>, line 1)",
          "traceback": [
            "\u001b[0;36m  File \u001b[0;32m\"<ipython-input-6-0e82719f22b4>\"\u001b[0;36m, line \u001b[0;32m1\u001b[0m\n\u001b[0;31m    2myvar = \"John\"\u001b[0m\n\u001b[0m    ^\u001b[0m\n\u001b[0;31mSyntaxError\u001b[0m\u001b[0;31m:\u001b[0m invalid decimal literal\n"
          ]
        }
      ]
    },
    {
      "cell_type": "markdown",
      "source": [
        "# **Global Variables**"
      ],
      "metadata": {
        "id": "KcWjanq-81Z8"
      }
    },
    {
      "cell_type": "code",
      "source": [
        "x = \"mathavan\"\n",
        "\n",
        "def myfunc():\n",
        "  print(\"my name is \"+ x)\n",
        "\n",
        "myfunc()"
      ],
      "metadata": {
        "colab": {
          "base_uri": "https://localhost:8080/"
        },
        "id": "Ifw2nuBv8hR3",
        "outputId": "ca2d8346-39eb-48aa-a94e-3b07ea4c97b8"
      },
      "execution_count": null,
      "outputs": [
        {
          "output_type": "stream",
          "name": "stdout",
          "text": [
            "my name is mathavan\n"
          ]
        }
      ]
    },
    {
      "cell_type": "code",
      "source": [
        "x = \"mathavan\"\n",
        "\n",
        "def myfunc():\n",
        "  x = \"vijay\"\n",
        "  print(\"my name is \"+ x)\n",
        "\n",
        "myfunc()\n",
        "\n",
        "print(\"my name is \"+ x)"
      ],
      "metadata": {
        "colab": {
          "base_uri": "https://localhost:8080/"
        },
        "id": "cLk1gFe88vy1",
        "outputId": "c228017a-c62b-4212-9e8f-48a6257e5b34"
      },
      "execution_count": null,
      "outputs": [
        {
          "output_type": "stream",
          "name": "stdout",
          "text": [
            "my name is vijay\n",
            "my name is mathavan\n"
          ]
        }
      ]
    },
    {
      "cell_type": "code",
      "source": [
        "def myfunc():\n",
        "  global x\n",
        "  x = \"mathavan\"\n",
        "\n",
        "myfunc()\n",
        "\n",
        "print(\"my name is \" + x)"
      ],
      "metadata": {
        "colab": {
          "base_uri": "https://localhost:8080/"
        },
        "id": "2dvqUWMu9Y5H",
        "outputId": "768be06d-9acb-488e-d25e-b8c7690cdf84"
      },
      "execution_count": null,
      "outputs": [
        {
          "output_type": "stream",
          "name": "stdout",
          "text": [
            "my name is mathavan\n"
          ]
        }
      ]
    },
    {
      "cell_type": "code",
      "source": [
        "x = \"vijay\"\n",
        "\n",
        "def myfunc():\n",
        "  global x\n",
        "  x = \"mathavan\"\n",
        "\n",
        "myfunc()\n",
        "\n",
        "print(\"my name is \" + x)"
      ],
      "metadata": {
        "colab": {
          "base_uri": "https://localhost:8080/"
        },
        "id": "ANvTOREB-HyX",
        "outputId": "a9ba670e-1a06-4f7b-faa8-31c0d7af77c2"
      },
      "execution_count": null,
      "outputs": [
        {
          "output_type": "stream",
          "name": "stdout",
          "text": [
            "my name is mathavan\n"
          ]
        }
      ]
    },
    {
      "cell_type": "code",
      "source": [
        "print('''hello\n",
        "world''')"
      ],
      "metadata": {
        "id": "H05fI8j4-dp6",
        "colab": {
          "base_uri": "https://localhost:8080/"
        },
        "outputId": "1b5dae94-d59f-40c4-95e6-f680c1070951"
      },
      "execution_count": null,
      "outputs": [
        {
          "output_type": "stream",
          "name": "stdout",
          "text": [
            "hello\n",
            "world\n"
          ]
        }
      ]
    },
    {
      "cell_type": "markdown",
      "source": [
        "\\t its a escape characters"
      ],
      "metadata": {
        "id": "DNK4gdRvl_6F"
      }
    },
    {
      "cell_type": "code",
      "source": [
        "print('hello','world')  # , give space for each character"
      ],
      "metadata": {
        "colab": {
          "base_uri": "https://localhost:8080/"
        },
        "id": "5-mQY8Qxlwst",
        "outputId": "416d54da-5a25-425f-a5e0-be4bc65921ed"
      },
      "execution_count": null,
      "outputs": [
        {
          "output_type": "stream",
          "name": "stdout",
          "text": [
            "hello world\n"
          ]
        }
      ]
    },
    {
      "cell_type": "code",
      "source": [
        "print('hello','world',sep = '_')  # for give the seperate character like _"
      ],
      "metadata": {
        "colab": {
          "base_uri": "https://localhost:8080/"
        },
        "id": "o2hQUlbymPXC",
        "outputId": "807deca7-91cf-4aab-b806-534a53113dd0"
      },
      "execution_count": null,
      "outputs": [
        {
          "output_type": "stream",
          "name": "stdout",
          "text": [
            "hello_world\n"
          ]
        }
      ]
    },
    {
      "cell_type": "code",
      "source": [
        "print('hello','world',sep = '_', end = '\\t')  # end give a space for the two\n",
        "print('mathavan')"
      ],
      "metadata": {
        "colab": {
          "base_uri": "https://localhost:8080/"
        },
        "id": "aFlbR1RumibU",
        "outputId": "f06547a7-431f-40e9-9e8d-161b283b053c"
      },
      "execution_count": null,
      "outputs": [
        {
          "output_type": "stream",
          "name": "stdout",
          "text": [
            "hello_world\tmathavan\n"
          ]
        }
      ]
    },
    {
      "cell_type": "code",
      "source": [
        "if 10>5:\n",
        "  print('True')"
      ],
      "metadata": {
        "colab": {
          "base_uri": "https://localhost:8080/"
        },
        "id": "Ij-Q8IURnDBG",
        "outputId": "f7480e92-c640-404f-9817-f174188b2215"
      },
      "execution_count": null,
      "outputs": [
        {
          "output_type": "stream",
          "name": "stdout",
          "text": [
            "True\n"
          ]
        }
      ]
    },
    {
      "cell_type": "code",
      "source": [
        "if (10>5) and (2>1):\n",
        "  print('Correct')"
      ],
      "metadata": {
        "colab": {
          "base_uri": "https://localhost:8080/"
        },
        "id": "g_Gnnwz_nwyH",
        "outputId": "fa1202bf-54c7-43d8-c50b-083749f68351"
      },
      "execution_count": null,
      "outputs": [
        {
          "output_type": "stream",
          "name": "stdout",
          "text": [
            "Correct\n"
          ]
        }
      ]
    },
    {
      "cell_type": "code",
      "source": [
        "if (10>5) and (2>4):  # and statement print if the 2 conditions are true only\n",
        "  print('Correct')"
      ],
      "metadata": {
        "id": "W92wL2x5oAUL"
      },
      "execution_count": null,
      "outputs": []
    },
    {
      "cell_type": "code",
      "source": [
        "if (10>5) or (2>4):  # but or statement print if the any of 1 conditions are true\n",
        "  print('Correct')"
      ],
      "metadata": {
        "colab": {
          "base_uri": "https://localhost:8080/"
        },
        "id": "o-nCVaFhoIN_",
        "outputId": "0f054646-21c9-4f9a-e457-435aa8fe28be"
      },
      "execution_count": null,
      "outputs": [
        {
          "output_type": "stream",
          "name": "stdout",
          "text": [
            "Correct\n"
          ]
        }
      ]
    },
    {
      "cell_type": "code",
      "source": [
        "a = 10\n",
        "\n",
        "if a==10:\n",
        "  print('True')\n",
        "else:\n",
        "  print('False')"
      ],
      "metadata": {
        "colab": {
          "base_uri": "https://localhost:8080/"
        },
        "id": "NfCSjbk7oTkY",
        "outputId": "2f2fde25-b9cf-4cc5-d62e-ce69b8c5fcc5"
      },
      "execution_count": null,
      "outputs": [
        {
          "output_type": "stream",
          "name": "stdout",
          "text": [
            "True\n"
          ]
        }
      ]
    },
    {
      "cell_type": "code",
      "source": [
        "for i in range(0,7):  # range(initial,final)\n",
        "  print('mathavan', i)"
      ],
      "metadata": {
        "colab": {
          "base_uri": "https://localhost:8080/"
        },
        "id": "laguag73os4X",
        "outputId": "f54b106a-1f3b-4135-baa3-ea994c14847f"
      },
      "execution_count": null,
      "outputs": [
        {
          "output_type": "stream",
          "name": "stdout",
          "text": [
            "mathavan 0\n",
            "mathavan 1\n",
            "mathavan 2\n",
            "mathavan 3\n",
            "mathavan 4\n",
            "mathavan 5\n",
            "mathavan 6\n"
          ]
        }
      ]
    },
    {
      "cell_type": "code",
      "source": [
        "for i in range(0,10,2):  # range(initial,final,step)\n",
        "  print('mathavan', i)"
      ],
      "metadata": {
        "colab": {
          "base_uri": "https://localhost:8080/"
        },
        "id": "7KwWW0s9pS3V",
        "outputId": "b29d2b87-cd40-4fcd-adcd-709645346c82"
      },
      "execution_count": null,
      "outputs": [
        {
          "output_type": "stream",
          "name": "stdout",
          "text": [
            "mathavan 0\n",
            "mathavan 2\n",
            "mathavan 4\n",
            "mathavan 6\n",
            "mathavan 8\n"
          ]
        }
      ]
    },
    {
      "cell_type": "code",
      "source": [
        "i = 50\n",
        "while i<500:\n",
        "  print(i)\n",
        "  i = i+50"
      ],
      "metadata": {
        "colab": {
          "base_uri": "https://localhost:8080/"
        },
        "id": "vcj6jtLtp9H-",
        "outputId": "28d50d5e-e02a-48c0-ddd7-fc431c63d433"
      },
      "execution_count": null,
      "outputs": [
        {
          "output_type": "stream",
          "name": "stdout",
          "text": [
            "50\n",
            "100\n",
            "150\n",
            "200\n",
            "250\n",
            "300\n",
            "350\n",
            "400\n",
            "450\n"
          ]
        }
      ]
    },
    {
      "cell_type": "markdown",
      "source": [
        "# **Jump Statments**"
      ],
      "metadata": {
        "id": "78AulfyPr4EX"
      }
    },
    {
      "cell_type": "code",
      "source": [
        "for i in range(0,10):  # continue statement jump from the condition number\n",
        "  if i ==8:\n",
        "    continue\n",
        "  print(i)"
      ],
      "metadata": {
        "colab": {
          "base_uri": "https://localhost:8080/"
        },
        "id": "61lycMf9qn3b",
        "outputId": "ac2c3fed-51f0-4899-cb07-dd7c12923428"
      },
      "execution_count": null,
      "outputs": [
        {
          "output_type": "stream",
          "name": "stdout",
          "text": [
            "0\n",
            "1\n",
            "2\n",
            "3\n",
            "4\n",
            "5\n",
            "6\n",
            "7\n",
            "9\n"
          ]
        }
      ]
    },
    {
      "cell_type": "code",
      "source": [
        "# break statement will break the print after the condition are met\n",
        "\n",
        "for i in range(0,10):\n",
        "  if i ==5:\n",
        "    break\n",
        "  print(i)"
      ],
      "metadata": {
        "colab": {
          "base_uri": "https://localhost:8080/"
        },
        "id": "FduYgQrMru08",
        "outputId": "79f13da8-7768-4849-f3d4-4092518f0ca2"
      },
      "execution_count": null,
      "outputs": [
        {
          "output_type": "stream",
          "name": "stdout",
          "text": [
            "0\n",
            "1\n",
            "2\n",
            "3\n",
            "4\n"
          ]
        }
      ]
    },
    {
      "cell_type": "code",
      "source": [
        "for i in range(0,10):  # after the break the else are executed printed\n",
        "  print(i)\n",
        "else:\n",
        "  print('Else Are Executed')"
      ],
      "metadata": {
        "colab": {
          "base_uri": "https://localhost:8080/"
        },
        "id": "Vsdp1P7ZsQfS",
        "outputId": "89123bd4-78a2-4514-e316-389cf6af0654"
      },
      "execution_count": null,
      "outputs": [
        {
          "output_type": "stream",
          "name": "stdout",
          "text": [
            "0\n",
            "1\n",
            "2\n",
            "3\n",
            "4\n",
            "5\n",
            "6\n",
            "7\n",
            "8\n",
            "9\n",
            "Else Are Executed\n"
          ]
        }
      ]
    },
    {
      "cell_type": "code",
      "source": [
        "exe = [1,2,3,4,5]  # indexing\n",
        "print(exe[3])"
      ],
      "metadata": {
        "colab": {
          "base_uri": "https://localhost:8080/"
        },
        "id": "eJRqWlAPsoni",
        "outputId": "516f8b84-7351-429e-ad00-84c6e3299ad3"
      },
      "execution_count": null,
      "outputs": [
        {
          "output_type": "stream",
          "name": "stdout",
          "text": [
            "4\n"
          ]
        }
      ]
    },
    {
      "cell_type": "code",
      "source": [
        "import pandas as pd\n",
        "import numpy as np"
      ],
      "metadata": {
        "id": "B5WJIqe5tTAp"
      },
      "execution_count": null,
      "outputs": []
    },
    {
      "cell_type": "code",
      "source": [
        "s = pd.Series()"
      ],
      "metadata": {
        "colab": {
          "base_uri": "https://localhost:8080/"
        },
        "id": "H9CuRJX30uRR",
        "outputId": "375ba0c1-800f-484d-c203-72b276506a96"
      },
      "execution_count": null,
      "outputs": [
        {
          "output_type": "stream",
          "name": "stderr",
          "text": [
            "<ipython-input-2-399a7d257b44>:1: FutureWarning: The default dtype for empty Series will be 'object' instead of 'float64' in a future version. Specify a dtype explicitly to silence this warning.\n",
            "  s = pd.Series()\n"
          ]
        }
      ]
    },
    {
      "cell_type": "code",
      "source": [
        "# Array\n",
        "\n",
        "a = np.array([10,20,30,40])\n",
        "s = pd.Series(a, index = (1,2,3,4))\n",
        "s"
      ],
      "metadata": {
        "colab": {
          "base_uri": "https://localhost:8080/"
        },
        "id": "i4JW_L0Q01_P",
        "outputId": "09a4ba75-6da4-4cde-f267-39d2b3c6ca07"
      },
      "execution_count": null,
      "outputs": [
        {
          "output_type": "execute_result",
          "data": {
            "text/plain": [
              "1    10\n",
              "2    20\n",
              "3    30\n",
              "4    40\n",
              "dtype: int64"
            ]
          },
          "metadata": {},
          "execution_count": 6
        }
      ]
    },
    {
      "cell_type": "code",
      "source": [
        "# List\n",
        "\n",
        "l = [10,20,30,40]\n",
        "s = pd.Series(l)\n",
        "s"
      ],
      "metadata": {
        "colab": {
          "base_uri": "https://localhost:8080/"
        },
        "id": "_cDDe9Fr1Gdg",
        "outputId": "09a3583b-af9f-4c82-f3ca-97effd9bf78b"
      },
      "execution_count": null,
      "outputs": [
        {
          "output_type": "execute_result",
          "data": {
            "text/plain": [
              "0    10\n",
              "1    20\n",
              "2    30\n",
              "3    40\n",
              "dtype: int64"
            ]
          },
          "metadata": {},
          "execution_count": 18
        }
      ]
    },
    {
      "cell_type": "code",
      "source": [
        "# Dictionary\n",
        "\n",
        "d = {'a':10, 'b':20, 'c':30, 'd':40}\n",
        "s = pd.Series(d)\n",
        "s"
      ],
      "metadata": {
        "colab": {
          "base_uri": "https://localhost:8080/"
        },
        "id": "8TX8iqaE1cDH",
        "outputId": "3b9d6bef-c2ab-4349-b719-719ae53a2d70"
      },
      "execution_count": null,
      "outputs": [
        {
          "output_type": "execute_result",
          "data": {
            "text/plain": [
              "a    10\n",
              "b    20\n",
              "c    30\n",
              "d    40\n",
              "dtype: int64"
            ]
          },
          "metadata": {},
          "execution_count": 16
        }
      ]
    },
    {
      "cell_type": "code",
      "source": [
        "def __init__(self):\n",
        "self.x = 1\n",
        "self.__y = 1\n",
        "\n",
        "def getY(self):\n",
        "return self.__y\n",
        "\n",
        "val = Test()\n",
        "print(val.__y)"
      ],
      "metadata": {
        "id": "l8dxXUtY1rK8",
        "outputId": "6d2c628c-ca3d-467b-d333-e721a8b40ecc",
        "colab": {
          "base_uri": "https://localhost:8080/",
          "height": 140
        }
      },
      "execution_count": null,
      "outputs": [
        {
          "output_type": "error",
          "ename": "IndentationError",
          "evalue": "expected an indented block after function definition on line 1 (<ipython-input-1-1bdb333f68d6>, line 2)",
          "traceback": [
            "\u001b[0;36m  File \u001b[0;32m\"<ipython-input-1-1bdb333f68d6>\"\u001b[0;36m, line \u001b[0;32m2\u001b[0m\n\u001b[0;31m    self.x = 1\u001b[0m\n\u001b[0m    ^\u001b[0m\n\u001b[0;31mIndentationError\u001b[0m\u001b[0;31m:\u001b[0m expected an indented block after function definition on line 1\n"
          ]
        }
      ]
    },
    {
      "cell_type": "code",
      "source": [],
      "metadata": {
        "id": "AQdoIgv4IkvS"
      },
      "execution_count": null,
      "outputs": []
    }
  ]
}