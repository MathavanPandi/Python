{
  "nbformat": 4,
  "nbformat_minor": 0,
  "metadata": {
    "colab": {
      "provenance": []
    },
    "kernelspec": {
      "name": "python3",
      "display_name": "Python 3"
    },
    "language_info": {
      "name": "python"
    }
  },
  "cells": [
    {
      "cell_type": "markdown",
      "source": [
        "### **List and it's Methods**\n",
        "\n",
        "Lists are used to store multiple items in a single variable.\n",
        "\n",
        "       • Lists are used to store multiple items in a single variable.\n",
        "\n",
        "       • It is a collection which is ordered, changeable and allows duplicate members.\n",
        "\n",
        "**List Methods**\n",
        "\n",
        "append(), sort(), reverse(), remove(), pop(), insert(), index(), extend(), count(), copy(), clear()"
      ],
      "metadata": {
        "id": "cxa0yqoHeegw"
      }
    },
    {
      "cell_type": "code",
      "source": [
        "# APPEND\n",
        "\n",
        "fruits = ['apple', 'cherrry', 'banana']          # It will add the new value into the list\n",
        "\n",
        "fruits.append(\"orange\")\n",
        "\n",
        "print(fruits)"
      ],
      "metadata": {
        "colab": {
          "base_uri": "https://localhost:8080/"
        },
        "id": "qIsZmGFucZqu",
        "outputId": "c7437e6a-11aa-46d6-d749-37d7c102c251"
      },
      "execution_count": 2,
      "outputs": [
        {
          "output_type": "stream",
          "name": "stdout",
          "text": [
            "['apple', 'cherrry', 'banana', 'orange']\n"
          ]
        }
      ]
    },
    {
      "cell_type": "code",
      "source": [
        "# SORT\n",
        "\n",
        "fruits = ['apple', 'cherrry', 'banana']          # It will sort the list values from alphabetical orders\n",
        "                                                 # If its a numbers sort from digit values\n",
        "fruits.sort()\n",
        "\n",
        "print(fruits)"
      ],
      "metadata": {
        "colab": {
          "base_uri": "https://localhost:8080/"
        },
        "id": "JRj7TY8pdJeV",
        "outputId": "7e531817-1765-46ec-bbb5-edc8c3bd9646"
      },
      "execution_count": 3,
      "outputs": [
        {
          "output_type": "stream",
          "name": "stdout",
          "text": [
            "['apple', 'banana', 'cherrry']\n"
          ]
        }
      ]
    },
    {
      "cell_type": "code",
      "source": [
        "# REVERSE\n",
        "\n",
        "fruits = ['apple', 'cherrry', 'banana']          # It will reverse the list values\n",
        "\n",
        "fruits.reverse()\n",
        "\n",
        "print(fruits)"
      ],
      "metadata": {
        "colab": {
          "base_uri": "https://localhost:8080/"
        },
        "id": "92ysbsx0du4E",
        "outputId": "dbca3d34-9f7d-46ee-9f8a-2c292be09cf1"
      },
      "execution_count": 4,
      "outputs": [
        {
          "output_type": "stream",
          "name": "stdout",
          "text": [
            "['banana', 'cherrry', 'apple']\n"
          ]
        }
      ]
    },
    {
      "cell_type": "code",
      "source": [
        "# REMOVE\n",
        "\n",
        "fruits = ['apple', 'cherrry', 'banana']          # It will remove the value given\n",
        "\n",
        "fruits.remove(\"banana\")\n",
        "\n",
        "print(fruits)"
      ],
      "metadata": {
        "colab": {
          "base_uri": "https://localhost:8080/"
        },
        "id": "a5RpCOOUeQYq",
        "outputId": "6e518cc4-52d2-4ef7-bd6e-c5ed4d94dbdf"
      },
      "execution_count": 5,
      "outputs": [
        {
          "output_type": "stream",
          "name": "stdout",
          "text": [
            "['apple', 'cherrry']\n"
          ]
        }
      ]
    },
    {
      "cell_type": "code",
      "source": [
        "# POP\n",
        "\n",
        "fruits = ['apple', 'cherrry', 'banana']          # It will remove the given element from the list values\n",
        "\n",
        "fruits.pop(1)                                    # Positive elements = 0, 1, 2, 3, 4, 5\n",
        "                                                 # Negative elements = -1, -2, -3, -4, -5\n",
        "print(fruits)"
      ],
      "metadata": {
        "colab": {
          "base_uri": "https://localhost:8080/"
        },
        "id": "EvZ18-yHex_U",
        "outputId": "3bca601a-f345-43d4-ef95-88f73a0bd82f"
      },
      "execution_count": 6,
      "outputs": [
        {
          "output_type": "stream",
          "name": "stdout",
          "text": [
            "['apple', 'banana']\n"
          ]
        }
      ]
    },
    {
      "cell_type": "code",
      "source": [
        "# INSERT\n",
        "\n",
        "fruits = ['apple', 'cherrry', 'banana']          # It will insert the given value into the given element\n",
        "fruits.insert(1, \"watermelon\")\n",
        "\n",
        "print(fruits)"
      ],
      "metadata": {
        "id": "Srs7fNkTfjmN"
      },
      "execution_count": null,
      "outputs": []
    },
    {
      "cell_type": "markdown",
      "source": [
        "### **Difference Between Append and Insert**\n",
        "\n",
        "**Append :**\n",
        "\n",
        "In append method you can add the given value inside the list but it\n",
        "will be added on the last.\n",
        "\n",
        "\n",
        "**Insert :**\n",
        "\n",
        "In insert method you can add the given value into any element you need."
      ],
      "metadata": {
        "id": "ehw-1_-_fujD"
      }
    },
    {
      "cell_type": "code",
      "source": [
        "# INDEX\n",
        "\n",
        "fruits = ['apple', 'cherrry', 'banana']          # It will show the element number of the given value\n",
        "fruits.index(\"cherry\")\n",
        "\n",
        "print(fruits)"
      ],
      "metadata": {
        "id": "kduvMOlRg6s9"
      },
      "execution_count": null,
      "outputs": []
    },
    {
      "cell_type": "code",
      "source": [
        "# EXTEND\n",
        "                                                            # You can use the extend method for add the two lists into one\n",
        "fruits = ['apple', 'cherrry', 'banana']\n",
        "fruits1 = ['pineapple', 'strawberry', 'guava', 'cherry']\n",
        "\n",
        "fruits.extend(fruits1)\n",
        "\n",
        "fruits"
      ],
      "metadata": {
        "colab": {
          "base_uri": "https://localhost:8080/"
        },
        "id": "8hBUCV5AhUou",
        "outputId": "7e40c44e-e67f-487d-98d0-8475f1a5a87d"
      },
      "execution_count": 13,
      "outputs": [
        {
          "output_type": "execute_result",
          "data": {
            "text/plain": [
              "['apple', 'cherrry', 'banana', 'pineapple', 'strawberry', 'guava', 'cherry']"
            ]
          },
          "metadata": {},
          "execution_count": 13
        }
      ]
    },
    {
      "cell_type": "code",
      "source": [
        "# COUNT\n",
        "\n",
        "fruits.count(\"cherry\")                           # It will count how many times the given value present in the list"
      ],
      "metadata": {
        "colab": {
          "base_uri": "https://localhost:8080/"
        },
        "id": "b8nJ1zIvimRV",
        "outputId": "9f119bb0-0f77-48fe-894d-d79b059ecc93"
      },
      "execution_count": 16,
      "outputs": [
        {
          "output_type": "execute_result",
          "data": {
            "text/plain": [
              "1"
            ]
          },
          "metadata": {},
          "execution_count": 16
        }
      ]
    },
    {
      "cell_type": "code",
      "source": [
        "# COPY\n",
        "\n",
        "fruits_copy = fruits.copy()                      # It will create the copy of the oreginal list"
      ],
      "metadata": {
        "id": "TwLWEnpAjf8r"
      },
      "execution_count": 17,
      "outputs": []
    },
    {
      "cell_type": "code",
      "source": [
        "# CLEAR\n",
        "                                                 # It will delete the all values from the list completely\n",
        "fruits.clear()\n",
        "\n",
        "fruits"
      ],
      "metadata": {
        "colab": {
          "base_uri": "https://localhost:8080/"
        },
        "id": "2EeoxebxjtxN",
        "outputId": "0c3f39c9-654f-4fe9-a8d1-36633464318f"
      },
      "execution_count": 19,
      "outputs": [
        {
          "output_type": "execute_result",
          "data": {
            "text/plain": [
              "[]"
            ]
          },
          "metadata": {},
          "execution_count": 19
        }
      ]
    }
  ]
}