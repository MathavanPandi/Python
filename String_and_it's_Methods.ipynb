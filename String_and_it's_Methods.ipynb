{
  "nbformat": 4,
  "nbformat_minor": 0,
  "metadata": {
    "colab": {
      "provenance": []
    },
    "kernelspec": {
      "name": "python3",
      "display_name": "Python 3"
    },
    "language_info": {
      "name": "python"
    }
  },
  "cells": [
    {
      "cell_type": "markdown",
      "source": [
        "### **String and it's Methods**\n",
        "\n",
        "All string methods returns new values. They do not change the original string.\n",
        "String Methods\n",
        "\n",
        "**String Methods**\n",
        "\n",
        "*   isalpha(), isalnum(), index(), find(), count(), capitalize(), isdigit(),islower(), isnumeric()\n",
        "\n",
        "*   endswith(), upper(), title(), swapcase(), strip(), startswith(), split(), join(), lower(), replace()"
      ],
      "metadata": {
        "id": "cxa0yqoHeegw"
      }
    },
    {
      "cell_type": "code",
      "source": [
        "# CAPITALIZE\n",
        "\n",
        "txt = \"hello, and welcome to our course.\"                              # It will capitalize the first letter of the sentence\n",
        "\n",
        "a = txt.capitalize()\n",
        "\n",
        "print(a)"
      ],
      "metadata": {
        "colab": {
          "base_uri": "https://localhost:8080/"
        },
        "id": "IPrwb9TOrymV",
        "outputId": "a4337526-a057-4edb-a0e4-a5f3e96fdea5"
      },
      "execution_count": 20,
      "outputs": [
        {
          "output_type": "stream",
          "name": "stdout",
          "text": [
            "Hello, and welcome to our course.\n"
          ]
        }
      ]
    },
    {
      "cell_type": "code",
      "source": [
        "# COUNT\n",
        "\n",
        "txt = \"I am from India and born in Tamilnadu, India\"                   # It will count the number of values given\n",
        "\n",
        "b = txt.count(\"India\")\n",
        "\n",
        "print(b)"
      ],
      "metadata": {
        "colab": {
          "base_uri": "https://localhost:8080/"
        },
        "id": "-PFRZrRNsCI5",
        "outputId": "5aeaedd5-7ecf-44c2-9acd-c87ac009918c"
      },
      "execution_count": 21,
      "outputs": [
        {
          "output_type": "stream",
          "name": "stdout",
          "text": [
            "2\n"
          ]
        }
      ]
    },
    {
      "cell_type": "code",
      "source": [
        "# FIND\n",
        "\n",
        "txt = \"I love apples, apple are my favorite fruit\"                     # It will find the given value inside the list\n",
        "                                                                       # Space also countable\n",
        "c = txt.find(\"apple\")\n",
        "\n",
        "print(c)"
      ],
      "metadata": {
        "colab": {
          "base_uri": "https://localhost:8080/"
        },
        "id": "tlRyWFMXsVSX",
        "outputId": "83696763-83ce-4d60-d8a5-fd4949e624df"
      },
      "execution_count": 22,
      "outputs": [
        {
          "output_type": "stream",
          "name": "stdout",
          "text": [
            "7\n"
          ]
        }
      ]
    },
    {
      "cell_type": "code",
      "source": [
        "# INDEX\n",
        "\n",
        "txt = \"I love apples, apple are my favorite fruit\"                   # It will also like find\n",
        "\n",
        "d = txt.index(\"apple\")\n",
        "\n",
        "print(d)"
      ],
      "metadata": {
        "colab": {
          "base_uri": "https://localhost:8080/"
        },
        "id": "J5UxI2JGtT8c",
        "outputId": "e59092fc-e7d1-49a8-d9af-259c671e60c4"
      },
      "execution_count": 24,
      "outputs": [
        {
          "output_type": "stream",
          "name": "stdout",
          "text": [
            "7\n"
          ]
        }
      ]
    },
    {
      "cell_type": "code",
      "source": [
        "# SPLIT\n",
        "\n",
        "txt = \"hello, my name is Peter, I am 26 years old\"                   # It will split the whole sentence into a small pieces based on the condition\n",
        "\n",
        "e = txt.split(',')\n",
        "\n",
        "print(e)"
      ],
      "metadata": {
        "colab": {
          "base_uri": "https://localhost:8080/"
        },
        "id": "CGu4qGD2uatW",
        "outputId": "5382cb62-3718-4c16-f063-d0c3790a85c6"
      },
      "execution_count": 26,
      "outputs": [
        {
          "output_type": "stream",
          "name": "stdout",
          "text": [
            "['hello', ' my name is Peter', ' I am 26 years old']\n"
          ]
        }
      ]
    },
    {
      "cell_type": "code",
      "source": [
        "# ISALNUM                                                            # isalnum = alpha numeric\n",
        "\n",
        "txt = \"Company12\"\n",
        "\n",
        "name = txt.isalnum()\n",
        "\n",
        "print(name)"
      ],
      "metadata": {
        "colab": {
          "base_uri": "https://localhost:8080/"
        },
        "id": "BCW3ucHHvaeI",
        "outputId": "c22df6ba-7a58-4199-d3e7-8c1f106a9129"
      },
      "execution_count": 27,
      "outputs": [
        {
          "output_type": "stream",
          "name": "stdout",
          "text": [
            "True\n"
          ]
        }
      ]
    },
    {
      "cell_type": "code",
      "source": [
        "# ISALPHA                                                            # isalpha = only alphabetic ( letteres )\n",
        "\n",
        "txt = \"CompanyX\"\n",
        "\n",
        "alpha = txt.isalpha()\n",
        "\n",
        "print(alpha)"
      ],
      "metadata": {
        "colab": {
          "base_uri": "https://localhost:8080/"
        },
        "id": "XIOMjQXRwDu3",
        "outputId": "8a6170c3-afdc-4975-d7a3-7fd5819cca51"
      },
      "execution_count": 30,
      "outputs": [
        {
          "output_type": "stream",
          "name": "stdout",
          "text": [
            "True\n"
          ]
        }
      ]
    },
    {
      "cell_type": "code",
      "source": [
        "# ISDIGIT                                                            # isdigit = only digit ( Numbers )\n",
        "\n",
        "txt = \"50800\"\n",
        "\n",
        "num = txt.isdigit()\n",
        "\n",
        "print(num)"
      ],
      "metadata": {
        "colab": {
          "base_uri": "https://localhost:8080/"
        },
        "id": "s64J-7kQwVtJ",
        "outputId": "848efd89-54d2-4fa5-c914-63623d8dd10c"
      },
      "execution_count": 29,
      "outputs": [
        {
          "output_type": "stream",
          "name": "stdout",
          "text": [
            "True\n"
          ]
        }
      ]
    },
    {
      "cell_type": "code",
      "source": [
        "# JOIN                                                               # It will join all the strings into one sentence\n",
        "                                                                     # \"_\" = Seperate value\n",
        "names = [\"John\", \"Peter\", \"Vicky\"]\n",
        "\n",
        "joined = \"_\".join(names)\n",
        "\n",
        "print(joined)"
      ],
      "metadata": {
        "colab": {
          "base_uri": "https://localhost:8080/"
        },
        "id": "l-QcIurSwyqp",
        "outputId": "5ccb370d-d092-4a59-c8fb-78f34a28fe47"
      },
      "execution_count": 31,
      "outputs": [
        {
          "output_type": "stream",
          "name": "stdout",
          "text": [
            "John_Peter_Vicky\n"
          ]
        }
      ]
    },
    {
      "cell_type": "code",
      "source": [
        "# REPLACE                                                            # It will replace the old value into a new value\n",
        "                                                                     # replace(\"old\" , \"new\")\n",
        "txt = \"I love sports\"\n",
        "\n",
        "result = txt.replace(\"sports\", \"cricket\")\n",
        "\n",
        "print(result)"
      ],
      "metadata": {
        "colab": {
          "base_uri": "https://localhost:8080/"
        },
        "id": "4ev59Dlaxrj-",
        "outputId": "0fcddbf7-448a-4ee4-b768-19701338c787"
      },
      "execution_count": 33,
      "outputs": [
        {
          "output_type": "stream",
          "name": "stdout",
          "text": [
            "I love cricket\n"
          ]
        }
      ]
    },
    {
      "cell_type": "code",
      "source": [
        "# STARTWITH                                                          # If the string start with the given condition get the answer\n",
        "\n",
        "txt = \"Hello, welcome to my world\"\n",
        "\n",
        "start = txt.startswith(\"Hello\")\n",
        "\n",
        "start"
      ],
      "metadata": {
        "colab": {
          "base_uri": "https://localhost:8080/"
        },
        "id": "vUctNlBKyG7Q",
        "outputId": "2abe4bff-a157-4156-e100-6828cab2bfaf"
      },
      "execution_count": 37,
      "outputs": [
        {
          "output_type": "execute_result",
          "data": {
            "text/plain": [
              "True"
            ]
          },
          "metadata": {},
          "execution_count": 37
        }
      ]
    },
    {
      "cell_type": "code",
      "source": [
        "# ENDWITH                                                            # If the string end with the given condition get the answer\n",
        "\n",
        "txt = \"Hello, welcome to my world.\"\n",
        "\n",
        "end = txt.endswith(\".\")\n",
        "\n",
        "end"
      ],
      "metadata": {
        "colab": {
          "base_uri": "https://localhost:8080/"
        },
        "id": "SVHuAEaLyoQN",
        "outputId": "6826ea5b-7d9e-418d-8090-dfd0ae9b0125"
      },
      "execution_count": 39,
      "outputs": [
        {
          "output_type": "execute_result",
          "data": {
            "text/plain": [
              "True"
            ]
          },
          "metadata": {},
          "execution_count": 39
        }
      ]
    }
  ]
}